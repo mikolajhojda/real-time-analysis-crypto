{
 "cells": [
  {
   "cell_type": "code",
   "execution_count": null,
   "id": "1062f668",
   "metadata": {},
   "outputs": [],
   "source": [
    "import matplotlib.pyplot as plt, pandas as pd, requests, time\n",
    "from IPython.display import clear_output, display\n",
    "import requests, pandas as pd, pprint, time\n",
    "BASE = \"http://localhost:8000\"\n",
    "from IPython.display import Image, HTML\n",
    "%matplotlib inline\n",
    "import matplotlib.pyplot as plt, matplotlib.dates as mdates\n",
    "import pandas as pd, requests, time\n",
    "from IPython.display import clear_output, display"
   ]
  },
  {
   "cell_type": "code",
   "execution_count": null,
   "id": "b713df4d",
   "metadata": {},
   "outputs": [],
   "source": [
    "print(requests.get(\"http://localhost:8000/trades/plain?limit=5\").text)"
   ]
  },
  {
   "cell_type": "code",
   "execution_count": null,
   "id": "0bbdab5c",
   "metadata": {},
   "outputs": [],
   "source": [
    "pprint.pp(requests.get(f\"{BASE}/stats\").json())\n",
    "\n",
    "trades = pd.DataFrame(requests.get(f\"{BASE}/profit\").json())\n",
    "display(trades.tail())"
   ]
  },
  {
   "cell_type": "code",
   "execution_count": null,
   "id": "a3ff3fef",
   "metadata": {},
   "outputs": [],
   "source": [
    "requests.get(f\"{BASE}/profit/total/plain\").text.strip()"
   ]
  },
  {
   "cell_type": "code",
   "execution_count": null,
   "id": "e13be19b",
   "metadata": {},
   "outputs": [],
   "source": [
    "bars      = pd.DataFrame(requests.get(f\"{BASE}/bars\", params={\"limit\": 600}).json())\n",
    "decisions = pd.DataFrame(requests.get(f\"{BASE}/decisions\").json())\n",
    "\n",
    "\n",
    "N      = 3200           # bars in window\n",
    "PAUSE  = 1.0           # seconds between redraws\n",
    "\n",
    "while True:\n",
    "    bars_json  = requests.get(f\"{BASE}/bars\", params={\"limit\": N}).json()\n",
    "    dec_json   = requests.get(f\"{BASE}/decisions\", params={\"limit\": 200}).json()\n",
    "    bars       = pd.DataFrame(bars_json)\n",
    "    decs       = pd.DataFrame(dec_json)\n",
    "\n",
    "    if bars.empty:\n",
    "        time.sleep(PAUSE)\n",
    "        continue\n",
    "\n",
    "    fig, ax = plt.subplots(figsize=(9, 4))\n",
    "    t  = pd.to_datetime(bars.iso_ts)\n",
    "    px = bars.close\n",
    "    ax.plot(t, px, lw=1, label=\"close\")\n",
    "\n",
    "    window_start = bars.bucket.min()\n",
    "    in_window = decs[decs.timestamp >= window_start]\n",
    "\n",
    "    buys = in_window[in_window.decision == \"BUY\"]\n",
    "    if not buys.empty:\n",
    "        ax.scatter(pd.to_datetime(buys.timestamp, unit=\"s\"),\n",
    "                   buys.price,\n",
    "                   marker=\"^\", color=\"green\", zorder=3, label=\"BUY\")\n",
    "\n",
    "    sells = in_window[in_window.decision == \"SELL\"]\n",
    "    if not sells.empty:\n",
    "        ax.scatter(pd.to_datetime(sells.timestamp, unit=\"s\"),\n",
    "                   sells.price,\n",
    "                   marker=\"v\", color=\"red\", zorder=3, label=\"SELL\")\n",
    "\n",
    "    ax.set_xlim(t.iloc[0], t.iloc[-1])\n",
    "    ax.set_ylim(px.min()*0.999, px.max()*1.001)\n",
    "    ax.xaxis.set_major_formatter(mdates.DateFormatter(\"%H:%M:%S\"))\n",
    "    fig.autofmt_xdate()\n",
    "    ax.legend()\n",
    "\n",
    "    clear_output(wait=True)\n",
    "    display(fig)\n",
    "    plt.close(fig)\n",
    "    time.sleep(PAUSE)\n"
   ]
  },
  {
   "cell_type": "code",
   "execution_count": null,
   "id": "d6d21af0",
   "metadata": {},
   "outputs": [],
   "source": []
  },
  {
   "cell_type": "code",
   "execution_count": null,
   "id": "f2199dc8",
   "metadata": {},
   "outputs": [],
   "source": []
  }
 ],
 "metadata": {
  "kernelspec": {
   "display_name": "base",
   "language": "python",
   "name": "python3"
  },
  "language_info": {
   "name": "python",
   "version": "3.12.8"
  }
 },
 "nbformat": 4,
 "nbformat_minor": 5
}
